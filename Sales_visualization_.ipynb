{
  "cells": [
    {
      "cell_type": "markdown",
      "metadata": {
        "id": "view-in-github",
        "colab_type": "text"
      },
      "source": [
        "<a href=\"https://colab.research.google.com/github/yaznhijazii/ML/blob/main/Sales_visualization_.ipynb\" target=\"_parent\"><img src=\"https://colab.research.google.com/assets/colab-badge.svg\" alt=\"Open In Colab\"/></a>"
      ]
    },
    {
      "cell_type": "code",
      "execution_count": null,
      "id": "1042294d",
      "metadata": {
        "id": "1042294d",
        "outputId": "b61bc528-9410-4d4a-8498-cb19d16ca735"
      },
      "outputs": [
        {
          "data": {
            "text/html": [
              "<div>\n",
              "<style scoped>\n",
              "    .dataframe tbody tr th:only-of-type {\n",
              "        vertical-align: middle;\n",
              "    }\n",
              "\n",
              "    .dataframe tbody tr th {\n",
              "        vertical-align: top;\n",
              "    }\n",
              "\n",
              "    .dataframe thead th {\n",
              "        text-align: right;\n",
              "    }\n",
              "</style>\n",
              "<table border=\"1\" class=\"dataframe\">\n",
              "  <thead>\n",
              "    <tr style=\"text-align: right;\">\n",
              "      <th></th>\n",
              "      <th>Month</th>\n",
              "      <th>Total sales</th>\n",
              "      <th>Product</th>\n",
              "    </tr>\n",
              "  </thead>\n",
              "  <tbody>\n",
              "    <tr>\n",
              "      <th>0</th>\n",
              "      <td>Jan</td>\n",
              "      <td>20000</td>\n",
              "      <td>Electrical devices</td>\n",
              "    </tr>\n",
              "    <tr>\n",
              "      <th>1</th>\n",
              "      <td>Feb</td>\n",
              "      <td>25000</td>\n",
              "      <td>Electrical devices</td>\n",
              "    </tr>\n",
              "    <tr>\n",
              "      <th>2</th>\n",
              "      <td>Mar</td>\n",
              "      <td>12000</td>\n",
              "      <td>Electrical devices</td>\n",
              "    </tr>\n",
              "    <tr>\n",
              "      <th>3</th>\n",
              "      <td>Apr</td>\n",
              "      <td>17000</td>\n",
              "      <td>Electrical devices</td>\n",
              "    </tr>\n",
              "    <tr>\n",
              "      <th>4</th>\n",
              "      <td>May</td>\n",
              "      <td>30000</td>\n",
              "      <td>Electrical devices</td>\n",
              "    </tr>\n",
              "    <tr>\n",
              "      <th>5</th>\n",
              "      <td>Jun</td>\n",
              "      <td>18000</td>\n",
              "      <td>Electrical devices</td>\n",
              "    </tr>\n",
              "    <tr>\n",
              "      <th>6</th>\n",
              "      <td>Jul</td>\n",
              "      <td>21000</td>\n",
              "      <td>Electrical devices</td>\n",
              "    </tr>\n",
              "    <tr>\n",
              "      <th>7</th>\n",
              "      <td>Jan</td>\n",
              "      <td>25000</td>\n",
              "      <td>Furnitures</td>\n",
              "    </tr>\n",
              "    <tr>\n",
              "      <th>8</th>\n",
              "      <td>Feb</td>\n",
              "      <td>21000</td>\n",
              "      <td>Furnitures</td>\n",
              "    </tr>\n",
              "    <tr>\n",
              "      <th>9</th>\n",
              "      <td>Mar</td>\n",
              "      <td>19000</td>\n",
              "      <td>Furnitures</td>\n",
              "    </tr>\n",
              "    <tr>\n",
              "      <th>10</th>\n",
              "      <td>Apr</td>\n",
              "      <td>17000</td>\n",
              "      <td>Furnitures</td>\n",
              "    </tr>\n",
              "    <tr>\n",
              "      <th>11</th>\n",
              "      <td>May</td>\n",
              "      <td>32000</td>\n",
              "      <td>Furnitures</td>\n",
              "    </tr>\n",
              "    <tr>\n",
              "      <th>12</th>\n",
              "      <td>Jun</td>\n",
              "      <td>11000</td>\n",
              "      <td>Furnitures</td>\n",
              "    </tr>\n",
              "    <tr>\n",
              "      <th>13</th>\n",
              "      <td>Jul</td>\n",
              "      <td>10000</td>\n",
              "      <td>Furnitures</td>\n",
              "    </tr>\n",
              "  </tbody>\n",
              "</table>\n",
              "</div>"
            ],
            "text/plain": [
              "   Month  Total sales             Product\n",
              "0    Jan        20000  Electrical devices\n",
              "1    Feb        25000  Electrical devices\n",
              "2    Mar        12000  Electrical devices\n",
              "3    Apr        17000  Electrical devices\n",
              "4    May        30000  Electrical devices\n",
              "5    Jun        18000  Electrical devices\n",
              "6    Jul        21000  Electrical devices\n",
              "7    Jan        25000          Furnitures\n",
              "8    Feb        21000          Furnitures\n",
              "9    Mar        19000          Furnitures\n",
              "10   Apr        17000          Furnitures\n",
              "11   May        32000          Furnitures\n",
              "12   Jun        11000          Furnitures\n",
              "13   Jul        10000          Furnitures"
            ]
          },
          "execution_count": 1,
          "metadata": {},
          "output_type": "execute_result"
        }
      ],
      "source": [
        "import pandas as pd\n",
        "import matplotlib.pyplot as plt\n",
        "df = pd.read_csv(\"Sales.csv\")\n",
        "df\n"
      ]
    },
    {
      "cell_type": "code",
      "execution_count": null,
      "id": "3427be42",
      "metadata": {
        "id": "3427be42"
      },
      "outputs": [],
      "source": [
        "#write python program to produce a graph to do the following steps & answer the question\n",
        "#compile an excel file called sales.csv\n",
        "#Q1: which month has the hig total sale for elecrical device item\n",
        "#Q2: which month has the Min total sale for Furniters\n",
        "#Q3: A graph show the total sales for both during the period from March-May?"
      ]
    },
    {
      "cell_type": "code",
      "execution_count": null,
      "id": "30f12c35",
      "metadata": {
        "id": "30f12c35",
        "outputId": "6444e03f-2273-44c1-a60a-b1df37141da8"
      },
      "outputs": [
        {
          "data": {
            "text/html": [
              "<div>\n",
              "<style scoped>\n",
              "    .dataframe tbody tr th:only-of-type {\n",
              "        vertical-align: middle;\n",
              "    }\n",
              "\n",
              "    .dataframe tbody tr th {\n",
              "        vertical-align: top;\n",
              "    }\n",
              "\n",
              "    .dataframe thead th {\n",
              "        text-align: right;\n",
              "    }\n",
              "</style>\n",
              "<table border=\"1\" class=\"dataframe\">\n",
              "  <thead>\n",
              "    <tr style=\"text-align: right;\">\n",
              "      <th></th>\n",
              "      <th>Month</th>\n",
              "      <th>Total sales</th>\n",
              "      <th>Product</th>\n",
              "    </tr>\n",
              "  </thead>\n",
              "  <tbody>\n",
              "    <tr>\n",
              "      <th>0</th>\n",
              "      <td>Jan</td>\n",
              "      <td>20000</td>\n",
              "      <td>Electrical devices</td>\n",
              "    </tr>\n",
              "    <tr>\n",
              "      <th>1</th>\n",
              "      <td>Feb</td>\n",
              "      <td>25000</td>\n",
              "      <td>Electrical devices</td>\n",
              "    </tr>\n",
              "    <tr>\n",
              "      <th>2</th>\n",
              "      <td>Mar</td>\n",
              "      <td>12000</td>\n",
              "      <td>Electrical devices</td>\n",
              "    </tr>\n",
              "    <tr>\n",
              "      <th>3</th>\n",
              "      <td>Apr</td>\n",
              "      <td>17000</td>\n",
              "      <td>Electrical devices</td>\n",
              "    </tr>\n",
              "    <tr>\n",
              "      <th>4</th>\n",
              "      <td>May</td>\n",
              "      <td>30000</td>\n",
              "      <td>Electrical devices</td>\n",
              "    </tr>\n",
              "    <tr>\n",
              "      <th>5</th>\n",
              "      <td>Jun</td>\n",
              "      <td>18000</td>\n",
              "      <td>Electrical devices</td>\n",
              "    </tr>\n",
              "    <tr>\n",
              "      <th>6</th>\n",
              "      <td>Jul</td>\n",
              "      <td>21000</td>\n",
              "      <td>Electrical devices</td>\n",
              "    </tr>\n",
              "  </tbody>\n",
              "</table>\n",
              "</div>"
            ],
            "text/plain": [
              "  Month  Total sales             Product\n",
              "0   Jan        20000  Electrical devices\n",
              "1   Feb        25000  Electrical devices\n",
              "2   Mar        12000  Electrical devices\n",
              "3   Apr        17000  Electrical devices\n",
              "4   May        30000  Electrical devices\n",
              "5   Jun        18000  Electrical devices\n",
              "6   Jul        21000  Electrical devices"
            ]
          },
          "execution_count": 2,
          "metadata": {},
          "output_type": "execute_result"
        }
      ],
      "source": [
        "df1 =df.iloc[0:7]\n",
        "df1"
      ]
    },
    {
      "cell_type": "code",
      "execution_count": null,
      "id": "60481be1",
      "metadata": {
        "id": "60481be1",
        "outputId": "c432b2db-dc96-4c6f-aea9-d238d978978d"
      },
      "outputs": [
        {
          "data": {
            "image/png": "[encoded data removed]",
            "text/plain": [
              "<Figure size 640x480 with 1 Axes>"
            ]
          },
          "metadata": {},
          "output_type": "display_data"
        }
      ],
      "source": [
        "import pandas as pd\n",
        "import matplotlib.pyplot as plt\n",
        "plt.bar(df1['Month'],df1['Total sales'])\n",
        "plt.title(\"Bar Chart\")\n",
        "plt.xlabel('Month')\n",
        "plt.ylabel('Total sales')\n",
        "plt.show()\n"
      ]
    },
    {
      "cell_type": "code",
      "execution_count": null,
      "id": "07453af4",
      "metadata": {
        "scrolled": true,
        "id": "07453af4",
        "outputId": "83ef3393-ced5-485a-a649-56ec8e8fb50a"
      },
      "outputs": [
        {
          "data": {
            "text/html": [
              "<div>\n",
              "<style scoped>\n",
              "    .dataframe tbody tr th:only-of-type {\n",
              "        vertical-align: middle;\n",
              "    }\n",
              "\n",
              "    .dataframe tbody tr th {\n",
              "        vertical-align: top;\n",
              "    }\n",
              "\n",
              "    .dataframe thead th {\n",
              "        text-align: right;\n",
              "    }\n",
              "</style>\n",
              "<table border=\"1\" class=\"dataframe\">\n",
              "  <thead>\n",
              "    <tr style=\"text-align: right;\">\n",
              "      <th></th>\n",
              "      <th>Month</th>\n",
              "      <th>Total sales</th>\n",
              "      <th>Product</th>\n",
              "    </tr>\n",
              "  </thead>\n",
              "  <tbody>\n",
              "    <tr>\n",
              "      <th>7</th>\n",
              "      <td>Jan</td>\n",
              "      <td>25000</td>\n",
              "      <td>Furnitures</td>\n",
              "    </tr>\n",
              "    <tr>\n",
              "      <th>8</th>\n",
              "      <td>Feb</td>\n",
              "      <td>21000</td>\n",
              "      <td>Furnitures</td>\n",
              "    </tr>\n",
              "    <tr>\n",
              "      <th>9</th>\n",
              "      <td>Mar</td>\n",
              "      <td>19000</td>\n",
              "      <td>Furnitures</td>\n",
              "    </tr>\n",
              "    <tr>\n",
              "      <th>10</th>\n",
              "      <td>Apr</td>\n",
              "      <td>17000</td>\n",
              "      <td>Furnitures</td>\n",
              "    </tr>\n",
              "    <tr>\n",
              "      <th>11</th>\n",
              "      <td>May</td>\n",
              "      <td>32000</td>\n",
              "      <td>Furnitures</td>\n",
              "    </tr>\n",
              "    <tr>\n",
              "      <th>12</th>\n",
              "      <td>Jun</td>\n",
              "      <td>11000</td>\n",
              "      <td>Furnitures</td>\n",
              "    </tr>\n",
              "    <tr>\n",
              "      <th>13</th>\n",
              "      <td>Jul</td>\n",
              "      <td>10000</td>\n",
              "      <td>Furnitures</td>\n",
              "    </tr>\n",
              "  </tbody>\n",
              "</table>\n",
              "</div>"
            ],
            "text/plain": [
              "   Month  Total sales     Product\n",
              "7    Jan        25000  Furnitures\n",
              "8    Feb        21000  Furnitures\n",
              "9    Mar        19000  Furnitures\n",
              "10   Apr        17000  Furnitures\n",
              "11   May        32000  Furnitures\n",
              "12   Jun        11000  Furnitures\n",
              "13   Jul        10000  Furnitures"
            ]
          },
          "execution_count": 5,
          "metadata": {},
          "output_type": "execute_result"
        }
      ],
      "source": [
        "df2 =df.iloc[7:14]\n",
        "df2"
      ]
    },
    {
      "cell_type": "code",
      "execution_count": null,
      "id": "19e3b289",
      "metadata": {
        "id": "19e3b289"
      },
      "outputs": [],
      "source": []
    },
    {
      "cell_type": "code",
      "execution_count": null,
      "id": "66f7febe",
      "metadata": {
        "id": "66f7febe",
        "outputId": "85e996c0-cebc-4a03-ded3-52a11a007892"
      },
      "outputs": [
        {
          "data": {
            "image/png": "[encoded data removed]",
            "text/plain": [
              "<Figure size 640x480 with 1 Axes>"
            ]
          },
          "metadata": {},
          "output_type": "display_data"
        }
      ],
      "source": [
        "import pandas as pd\n",
        "import matplotlib.pyplot as plt\n",
        "plt.bar(df2['Month'],df2['Total sales'])\n",
        "plt.title(\"Bar Chart\")\n",
        "plt.xlabel('Month')\n",
        "plt.ylabel('Total sales')\n",
        "plt.show()"
      ]
    },
    {
      "cell_type": "code",
      "execution_count": null,
      "id": "25d4c83f",
      "metadata": {
        "id": "25d4c83f",
        "outputId": "63253b89-05f2-413c-9534-7f18e6c73c49"
      },
      "outputs": [
        {
          "data": {
            "text/html": [
              "<div>\n",
              "<style scoped>\n",
              "    .dataframe tbody tr th:only-of-type {\n",
              "        vertical-align: middle;\n",
              "    }\n",
              "\n",
              "    .dataframe tbody tr th {\n",
              "        vertical-align: top;\n",
              "    }\n",
              "\n",
              "    .dataframe thead th {\n",
              "        text-align: right;\n",
              "    }\n",
              "</style>\n",
              "<table border=\"1\" class=\"dataframe\">\n",
              "  <thead>\n",
              "    <tr style=\"text-align: right;\">\n",
              "      <th></th>\n",
              "      <th>Month</th>\n",
              "      <th>Total sales</th>\n",
              "      <th>Product</th>\n",
              "    </tr>\n",
              "  </thead>\n",
              "  <tbody>\n",
              "    <tr>\n",
              "      <th>2</th>\n",
              "      <td>Mar</td>\n",
              "      <td>12000</td>\n",
              "      <td>Electrical devices</td>\n",
              "    </tr>\n",
              "    <tr>\n",
              "      <th>3</th>\n",
              "      <td>Apr</td>\n",
              "      <td>17000</td>\n",
              "      <td>Electrical devices</td>\n",
              "    </tr>\n",
              "    <tr>\n",
              "      <th>4</th>\n",
              "      <td>May</td>\n",
              "      <td>30000</td>\n",
              "      <td>Electrical devices</td>\n",
              "    </tr>\n",
              "    <tr>\n",
              "      <th>9</th>\n",
              "      <td>Mar</td>\n",
              "      <td>19000</td>\n",
              "      <td>Furnitures</td>\n",
              "    </tr>\n",
              "    <tr>\n",
              "      <th>10</th>\n",
              "      <td>Apr</td>\n",
              "      <td>17000</td>\n",
              "      <td>Furnitures</td>\n",
              "    </tr>\n",
              "    <tr>\n",
              "      <th>11</th>\n",
              "      <td>May</td>\n",
              "      <td>32000</td>\n",
              "      <td>Furnitures</td>\n",
              "    </tr>\n",
              "  </tbody>\n",
              "</table>\n",
              "</div>"
            ],
            "text/plain": [
              "   Month  Total sales             Product\n",
              "2    Mar        12000  Electrical devices\n",
              "3    Apr        17000  Electrical devices\n",
              "4    May        30000  Electrical devices\n",
              "9    Mar        19000          Furnitures\n",
              "10   Apr        17000          Furnitures\n",
              "11   May        32000          Furnitures"
            ]
          },
          "execution_count": 7,
          "metadata": {},
          "output_type": "execute_result"
        }
      ],
      "source": [
        "df3 =df.loc[(df.Month=='Mar')^(df.Month=='Apr')^(df.Month=='May')]\n",
        "df3"
      ]
    },
    {
      "cell_type": "code",
      "execution_count": null,
      "id": "06c0afcd",
      "metadata": {
        "id": "06c0afcd",
        "outputId": "a00af7f9-3381-4fed-9e9c-b8d75e806697"
      },
      "outputs": [
        {
          "data": {
            "text/html": [
              "<div>\n",
              "<style scoped>\n",
              "    .dataframe tbody tr th:only-of-type {\n",
              "        vertical-align: middle;\n",
              "    }\n",
              "\n",
              "    .dataframe tbody tr th {\n",
              "        vertical-align: top;\n",
              "    }\n",
              "\n",
              "    .dataframe thead th {\n",
              "        text-align: right;\n",
              "    }\n",
              "</style>\n",
              "<table border=\"1\" class=\"dataframe\">\n",
              "  <thead>\n",
              "    <tr style=\"text-align: right;\">\n",
              "      <th></th>\n",
              "      <th>Total sales</th>\n",
              "    </tr>\n",
              "    <tr>\n",
              "      <th>Month</th>\n",
              "      <th></th>\n",
              "    </tr>\n",
              "  </thead>\n",
              "  <tbody>\n",
              "    <tr>\n",
              "      <th>Mar</th>\n",
              "      <td>31000</td>\n",
              "    </tr>\n",
              "    <tr>\n",
              "      <th>Apr</th>\n",
              "      <td>34000</td>\n",
              "    </tr>\n",
              "    <tr>\n",
              "      <th>May</th>\n",
              "      <td>62000</td>\n",
              "    </tr>\n",
              "  </tbody>\n",
              "</table>\n",
              "</div>"
            ],
            "text/plain": [
              "       Total sales\n",
              "Month             \n",
              "Mar          31000\n",
              "Apr          34000\n",
              "May          62000"
            ]
          },
          "execution_count": 8,
          "metadata": {},
          "output_type": "execute_result"
        }
      ],
      "source": [
        "df3=df.groupby('Month')['Total sales'].sum()[['Mar' , 'Apr' ,'May']].to_frame()\n",
        "df3"
      ]
    },
    {
      "cell_type": "code",
      "execution_count": null,
      "id": "c08c0098",
      "metadata": {
        "id": "c08c0098",
        "outputId": "8f9da13b-c13f-4634-c425-9003fbd4dca7"
      },
      "outputs": [
        {
          "data": {
            "image/png": "[encoded data removed]",
            "text/plain": [
              "<Figure size 640x480 with 1 Axes>"
            ]
          },
          "metadata": {},
          "output_type": "display_data"
        }
      ],
      "source": [
        "import pandas as pd\n",
        "import matplotlib.pyplot as plt\n",
        "df = pd.read_csv(\"Sales.csv\")\n",
        "plt.bar(df3.index,df3['Total sales'])\n",
        "plt.title(\"Bar Chart\")\n",
        "plt.xlabel('Month')\n",
        "plt.ylabel('Total sales')\n",
        "plt.show()"
      ]
    },
    {
      "cell_type": "code",
      "execution_count": null,
      "id": "565ef2e3",
      "metadata": {
        "id": "565ef2e3",
        "outputId": "20a6f909-a343-4712-8291-cf46aa0c7bf9"
      },
      "outputs": [
        {
          "data": {
            "text/html": [
              "<div>\n",
              "<style scoped>\n",
              "    .dataframe tbody tr th:only-of-type {\n",
              "        vertical-align: middle;\n",
              "    }\n",
              "\n",
              "    .dataframe tbody tr th {\n",
              "        vertical-align: top;\n",
              "    }\n",
              "\n",
              "    .dataframe thead th {\n",
              "        text-align: right;\n",
              "    }\n",
              "</style>\n",
              "<table border=\"1\" class=\"dataframe\">\n",
              "  <thead>\n",
              "    <tr style=\"text-align: right;\">\n",
              "      <th></th>\n",
              "      <th>Month</th>\n",
              "      <th>Total sales</th>\n",
              "      <th>Product</th>\n",
              "    </tr>\n",
              "  </thead>\n",
              "  <tbody>\n",
              "    <tr>\n",
              "      <th>2</th>\n",
              "      <td>Mar</td>\n",
              "      <td>12000</td>\n",
              "      <td>Electrical devices</td>\n",
              "    </tr>\n",
              "    <tr>\n",
              "      <th>3</th>\n",
              "      <td>Apr</td>\n",
              "      <td>17000</td>\n",
              "      <td>Electrical devices</td>\n",
              "    </tr>\n",
              "    <tr>\n",
              "      <th>4</th>\n",
              "      <td>May</td>\n",
              "      <td>30000</td>\n",
              "      <td>Electrical devices</td>\n",
              "    </tr>\n",
              "    <tr>\n",
              "      <th>9</th>\n",
              "      <td>Mar</td>\n",
              "      <td>19000</td>\n",
              "      <td>Furnitures</td>\n",
              "    </tr>\n",
              "    <tr>\n",
              "      <th>10</th>\n",
              "      <td>Apr</td>\n",
              "      <td>17000</td>\n",
              "      <td>Furnitures</td>\n",
              "    </tr>\n",
              "    <tr>\n",
              "      <th>11</th>\n",
              "      <td>May</td>\n",
              "      <td>32000</td>\n",
              "      <td>Furnitures</td>\n",
              "    </tr>\n",
              "  </tbody>\n",
              "</table>\n",
              "</div>"
            ],
            "text/plain": [
              "   Month  Total sales             Product\n",
              "2    Mar        12000  Electrical devices\n",
              "3    Apr        17000  Electrical devices\n",
              "4    May        30000  Electrical devices\n",
              "9    Mar        19000          Furnitures\n",
              "10   Apr        17000          Furnitures\n",
              "11   May        32000          Furnitures"
            ]
          },
          "execution_count": 6,
          "metadata": {},
          "output_type": "execute_result"
        }
      ],
      "source": [
        "df4 =df.loc[(df.Month=='Mar')^(df.Month=='Apr')^(df.Month=='May')]\n",
        "df4"
      ]
    },
    {
      "cell_type": "code",
      "execution_count": null,
      "id": "520e982d",
      "metadata": {
        "id": "520e982d",
        "outputId": "145ee567-f06d-4574-cb52-d7ca8ae0bb0f"
      },
      "outputs": [
        {
          "data": {
            "text/plain": [
              "<AxesSubplot:xlabel='Month', ylabel='Total sales'>"
            ]
          },
          "execution_count": 8,
          "metadata": {},
          "output_type": "execute_result"
        },
        {
          "data": {
            "image/png": "[encoded data removed]",
            "text/plain": [
              "<Figure size 640x480 with 1 Axes>"
            ]
          },
          "metadata": {},
          "output_type": "display_data"
        }
      ],
      "source": [
        "import seaborn as sns\n",
        "sns.barplot(data=df4 ,x='Month' , y='Total sales', hue='Product')"
      ]
    },
    {
      "cell_type": "code",
      "execution_count": null,
      "id": "eff262ca",
      "metadata": {
        "id": "eff262ca"
      },
      "outputs": [],
      "source": []
    }
  ],
  "metadata": {
    "kernelspec": {
      "display_name": "Python 3 (ipykernel)",
      "language": "python",
      "name": "python3"
    },
    "language_info": {
      "codemirror_mode": {
        "name": "ipython",
        "version": 3
      },
      "file_extension": ".py",
      "mimetype": "text/x-python",
      "name": "python",
      "nbconvert_exporter": "python",
      "pygments_lexer": "ipython3",
      "version": "3.9.13"
    },
    "colab": {
      "provenance": [],
      "include_colab_link": true
    }
  },
  "nbformat": 4,
  "nbformat_minor": 5
}